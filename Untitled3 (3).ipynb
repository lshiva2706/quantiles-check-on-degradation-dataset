{
  "cells": [
    {
      "cell_type": "code",
      "execution_count": null,
      "id": "e1e4b1b8",
      "metadata": {
        "colab": {
          "base_uri": "https://localhost:8080/"
        },
        "id": "e1e4b1b8",
        "outputId": "cf3ed43c-9050-48f4-ec75-4cd3d3172b76"
      },
      "outputs": [
        {
          "output_type": "stream",
          "name": "stdout",
          "text": [
            "Requirement already satisfied: opencv-python-headless in /usr/local/lib/python3.10/dist-packages (4.8.1.78)\n",
            "Requirement already satisfied: numpy>=1.21.2 in /usr/local/lib/python3.10/dist-packages (from opencv-python-headless) (1.23.5)\n"
          ]
        }
      ],
      "source": [
        "pip install opencv-python-headless"
      ]
    },
    {
      "cell_type": "code",
      "execution_count": null,
      "id": "5cb0a284",
      "metadata": {
        "colab": {
          "base_uri": "https://localhost:8080/"
        },
        "id": "5cb0a284",
        "outputId": "f8555714-1e5c-48f9-a39f-c41b78efacc6"
      },
      "outputs": [
        {
          "output_type": "stream",
          "name": "stdout",
          "text": [
            "Requirement already satisfied: tensorflow in /usr/local/lib/python3.10/dist-packages (2.14.0)\n",
            "Requirement already satisfied: absl-py>=1.0.0 in /usr/local/lib/python3.10/dist-packages (from tensorflow) (1.4.0)\n",
            "Requirement already satisfied: astunparse>=1.6.0 in /usr/local/lib/python3.10/dist-packages (from tensorflow) (1.6.3)\n",
            "Requirement already satisfied: flatbuffers>=23.5.26 in /usr/local/lib/python3.10/dist-packages (from tensorflow) (23.5.26)\n",
            "Requirement already satisfied: gast!=0.5.0,!=0.5.1,!=0.5.2,>=0.2.1 in /usr/local/lib/python3.10/dist-packages (from tensorflow) (0.5.4)\n",
            "Requirement already satisfied: google-pasta>=0.1.1 in /usr/local/lib/python3.10/dist-packages (from tensorflow) (0.2.0)\n",
            "Requirement already satisfied: h5py>=2.9.0 in /usr/local/lib/python3.10/dist-packages (from tensorflow) (3.9.0)\n",
            "Requirement already satisfied: libclang>=13.0.0 in /usr/local/lib/python3.10/dist-packages (from tensorflow) (16.0.6)\n",
            "Requirement already satisfied: ml-dtypes==0.2.0 in /usr/local/lib/python3.10/dist-packages (from tensorflow) (0.2.0)\n",
            "Requirement already satisfied: numpy>=1.23.5 in /usr/local/lib/python3.10/dist-packages (from tensorflow) (1.23.5)\n",
            "Requirement already satisfied: opt-einsum>=2.3.2 in /usr/local/lib/python3.10/dist-packages (from tensorflow) (3.3.0)\n",
            "Requirement already satisfied: packaging in /usr/local/lib/python3.10/dist-packages (from tensorflow) (23.2)\n",
            "Requirement already satisfied: protobuf!=4.21.0,!=4.21.1,!=4.21.2,!=4.21.3,!=4.21.4,!=4.21.5,<5.0.0dev,>=3.20.3 in /usr/local/lib/python3.10/dist-packages (from tensorflow) (3.20.3)\n",
            "Requirement already satisfied: setuptools in /usr/local/lib/python3.10/dist-packages (from tensorflow) (67.7.2)\n",
            "Requirement already satisfied: six>=1.12.0 in /usr/local/lib/python3.10/dist-packages (from tensorflow) (1.16.0)\n",
            "Requirement already satisfied: termcolor>=1.1.0 in /usr/local/lib/python3.10/dist-packages (from tensorflow) (2.3.0)\n",
            "Requirement already satisfied: typing-extensions>=3.6.6 in /usr/local/lib/python3.10/dist-packages (from tensorflow) (4.5.0)\n",
            "Requirement already satisfied: wrapt<1.15,>=1.11.0 in /usr/local/lib/python3.10/dist-packages (from tensorflow) (1.14.1)\n",
            "Requirement already satisfied: tensorflow-io-gcs-filesystem>=0.23.1 in /usr/local/lib/python3.10/dist-packages (from tensorflow) (0.34.0)\n",
            "Requirement already satisfied: grpcio<2.0,>=1.24.3 in /usr/local/lib/python3.10/dist-packages (from tensorflow) (1.59.2)\n",
            "Requirement already satisfied: tensorboard<2.15,>=2.14 in /usr/local/lib/python3.10/dist-packages (from tensorflow) (2.14.1)\n",
            "Requirement already satisfied: tensorflow-estimator<2.15,>=2.14.0 in /usr/local/lib/python3.10/dist-packages (from tensorflow) (2.14.0)\n",
            "Requirement already satisfied: keras<2.15,>=2.14.0 in /usr/local/lib/python3.10/dist-packages (from tensorflow) (2.14.0)\n",
            "Requirement already satisfied: wheel<1.0,>=0.23.0 in /usr/local/lib/python3.10/dist-packages (from astunparse>=1.6.0->tensorflow) (0.41.3)\n",
            "Requirement already satisfied: google-auth<3,>=1.6.3 in /usr/local/lib/python3.10/dist-packages (from tensorboard<2.15,>=2.14->tensorflow) (2.17.3)\n",
            "Requirement already satisfied: google-auth-oauthlib<1.1,>=0.5 in /usr/local/lib/python3.10/dist-packages (from tensorboard<2.15,>=2.14->tensorflow) (1.0.0)\n",
            "Requirement already satisfied: markdown>=2.6.8 in /usr/local/lib/python3.10/dist-packages (from tensorboard<2.15,>=2.14->tensorflow) (3.5.1)\n",
            "Requirement already satisfied: requests<3,>=2.21.0 in /usr/local/lib/python3.10/dist-packages (from tensorboard<2.15,>=2.14->tensorflow) (2.31.0)\n",
            "Requirement already satisfied: tensorboard-data-server<0.8.0,>=0.7.0 in /usr/local/lib/python3.10/dist-packages (from tensorboard<2.15,>=2.14->tensorflow) (0.7.2)\n",
            "Requirement already satisfied: werkzeug>=1.0.1 in /usr/local/lib/python3.10/dist-packages (from tensorboard<2.15,>=2.14->tensorflow) (3.0.1)\n",
            "Requirement already satisfied: cachetools<6.0,>=2.0.0 in /usr/local/lib/python3.10/dist-packages (from google-auth<3,>=1.6.3->tensorboard<2.15,>=2.14->tensorflow) (5.3.2)\n",
            "Requirement already satisfied: pyasn1-modules>=0.2.1 in /usr/local/lib/python3.10/dist-packages (from google-auth<3,>=1.6.3->tensorboard<2.15,>=2.14->tensorflow) (0.3.0)\n",
            "Requirement already satisfied: rsa<5,>=3.1.4 in /usr/local/lib/python3.10/dist-packages (from google-auth<3,>=1.6.3->tensorboard<2.15,>=2.14->tensorflow) (4.9)\n",
            "Requirement already satisfied: requests-oauthlib>=0.7.0 in /usr/local/lib/python3.10/dist-packages (from google-auth-oauthlib<1.1,>=0.5->tensorboard<2.15,>=2.14->tensorflow) (1.3.1)\n",
            "Requirement already satisfied: charset-normalizer<4,>=2 in /usr/local/lib/python3.10/dist-packages (from requests<3,>=2.21.0->tensorboard<2.15,>=2.14->tensorflow) (3.3.2)\n",
            "Requirement already satisfied: idna<4,>=2.5 in /usr/local/lib/python3.10/dist-packages (from requests<3,>=2.21.0->tensorboard<2.15,>=2.14->tensorflow) (3.4)\n",
            "Requirement already satisfied: urllib3<3,>=1.21.1 in /usr/local/lib/python3.10/dist-packages (from requests<3,>=2.21.0->tensorboard<2.15,>=2.14->tensorflow) (2.0.7)\n",
            "Requirement already satisfied: certifi>=2017.4.17 in /usr/local/lib/python3.10/dist-packages (from requests<3,>=2.21.0->tensorboard<2.15,>=2.14->tensorflow) (2023.7.22)\n",
            "Requirement already satisfied: MarkupSafe>=2.1.1 in /usr/local/lib/python3.10/dist-packages (from werkzeug>=1.0.1->tensorboard<2.15,>=2.14->tensorflow) (2.1.3)\n",
            "Requirement already satisfied: pyasn1<0.6.0,>=0.4.6 in /usr/local/lib/python3.10/dist-packages (from pyasn1-modules>=0.2.1->google-auth<3,>=1.6.3->tensorboard<2.15,>=2.14->tensorflow) (0.5.0)\n",
            "Requirement already satisfied: oauthlib>=3.0.0 in /usr/local/lib/python3.10/dist-packages (from requests-oauthlib>=0.7.0->google-auth-oauthlib<1.1,>=0.5->tensorboard<2.15,>=2.14->tensorflow) (3.2.2)\n"
          ]
        }
      ],
      "source": [
        "pip install tensorflow"
      ]
    },
    {
      "cell_type": "code",
      "execution_count": null,
      "id": "22c6534f",
      "metadata": {
        "colab": {
          "base_uri": "https://localhost:8080/"
        },
        "id": "22c6534f",
        "outputId": "32247cda-9408-4e5c-fa91-52bae7cc98d2"
      },
      "outputs": [
        {
          "output_type": "stream",
          "name": "stdout",
          "text": [
            "Requirement already satisfied: torch in /usr/local/lib/python3.10/dist-packages (2.1.0+cu118)\n",
            "Requirement already satisfied: torchvision in /usr/local/lib/python3.10/dist-packages (0.16.0+cu118)\n",
            "Requirement already satisfied: filelock in /usr/local/lib/python3.10/dist-packages (from torch) (3.13.1)\n",
            "Requirement already satisfied: typing-extensions in /usr/local/lib/python3.10/dist-packages (from torch) (4.5.0)\n",
            "Requirement already satisfied: sympy in /usr/local/lib/python3.10/dist-packages (from torch) (1.12)\n",
            "Requirement already satisfied: networkx in /usr/local/lib/python3.10/dist-packages (from torch) (3.2.1)\n",
            "Requirement already satisfied: jinja2 in /usr/local/lib/python3.10/dist-packages (from torch) (3.1.2)\n",
            "Requirement already satisfied: fsspec in /usr/local/lib/python3.10/dist-packages (from torch) (2023.6.0)\n",
            "Requirement already satisfied: triton==2.1.0 in /usr/local/lib/python3.10/dist-packages (from torch) (2.1.0)\n",
            "Requirement already satisfied: numpy in /usr/local/lib/python3.10/dist-packages (from torchvision) (1.23.5)\n",
            "Requirement already satisfied: requests in /usr/local/lib/python3.10/dist-packages (from torchvision) (2.31.0)\n",
            "Requirement already satisfied: pillow!=8.3.*,>=5.3.0 in /usr/local/lib/python3.10/dist-packages (from torchvision) (9.4.0)\n",
            "Requirement already satisfied: MarkupSafe>=2.0 in /usr/local/lib/python3.10/dist-packages (from jinja2->torch) (2.1.3)\n",
            "Requirement already satisfied: charset-normalizer<4,>=2 in /usr/local/lib/python3.10/dist-packages (from requests->torchvision) (3.3.2)\n",
            "Requirement already satisfied: idna<4,>=2.5 in /usr/local/lib/python3.10/dist-packages (from requests->torchvision) (3.4)\n",
            "Requirement already satisfied: urllib3<3,>=1.21.1 in /usr/local/lib/python3.10/dist-packages (from requests->torchvision) (2.0.7)\n",
            "Requirement already satisfied: certifi>=2017.4.17 in /usr/local/lib/python3.10/dist-packages (from requests->torchvision) (2023.7.22)\n",
            "Requirement already satisfied: mpmath>=0.19 in /usr/local/lib/python3.10/dist-packages (from sympy->torch) (1.3.0)\n"
          ]
        }
      ],
      "source": [
        "pip install torch torchvision\n"
      ]
    },
    {
      "cell_type": "code",
      "execution_count": null,
      "id": "b30545af",
      "metadata": {
        "id": "b30545af"
      },
      "outputs": [],
      "source": [
        "import torch\n",
        "import torch.nn as nn\n",
        "import torchvision.models as models\n",
        "from torchvision import datasets, transforms\n",
        "from torch.utils.data import DataLoader\n",
        "import torch.optim as optim\n",
        "from torch.optim import lr_scheduler"
      ]
    },
    {
      "cell_type": "code",
      "source": [
        "from google.colab import drive\n",
        "drive.mount('/content/drive')"
      ],
      "metadata": {
        "colab": {
          "base_uri": "https://localhost:8080/"
        },
        "id": "bb2J5F4lRYPz",
        "outputId": "8e88c2cd-3e2c-436f-f98c-166e23040878"
      },
      "id": "bb2J5F4lRYPz",
      "execution_count": null,
      "outputs": [
        {
          "output_type": "stream",
          "name": "stdout",
          "text": [
            "Mounted at /content/drive\n"
          ]
        }
      ]
    },
    {
      "cell_type": "code",
      "execution_count": null,
      "id": "f1cbdc15",
      "metadata": {
        "id": "f1cbdc15"
      },
      "outputs": [],
      "source": [
        "\n",
        "\n",
        "# Define transforms for the training data and testing data\n",
        "train_transforms = transforms.Compose([\n",
        "    transforms.RandomHorizontalFlip(),\n",
        "    transforms.RandomRotation(10),\n",
        "    transforms.Resize(256),  # Resize the shorter side to 256\n",
        "    transforms.CenterCrop(224),  # Crop a square in the center of the image\n",
        "    transforms.ToTensor(),\n",
        "    transforms.Normalize(mean=[0.485, 0.456, 0.406], std=[0.229, 0.224, 0.225])\n",
        "])\n",
        "\n",
        "test_transforms = transforms.Compose([\n",
        "    transforms.Resize(256),  # Resize the shorter side to 256\n",
        "    transforms.CenterCrop(224),  # Crop a square in the center of the image\n",
        "    transforms.ToTensor(),\n",
        "    transforms.Normalize(mean=[0.485, 0.456, 0.406], std=[0.229, 0.224, 0.225])\n",
        "])\n",
        "\n",
        "# Lo"
      ]
    },
    {
      "cell_type": "code",
      "execution_count": null,
      "id": "48371e11",
      "metadata": {
        "id": "48371e11"
      },
      "outputs": [],
      "source": [
        "# Make sure the paths to the datasets are correct\n",
        "train_dataset_path = '/content/drive/MyDrive/ML_project/train_degraded_2'\n",
        "test_dataset_path = '/content/drive/MyDrive/ML_project/validation_degraded_2'"
      ]
    },
    {
      "cell_type": "code",
      "execution_count": null,
      "id": "30f086ec",
      "metadata": {
        "id": "30f086ec"
      },
      "outputs": [],
      "source": [
        "# Load datasets using ImageFolder\n",
        "train_data = datasets.ImageFolder(root=train_dataset_path, transform=train_transforms)\n",
        "test_data = datasets.ImageFolder(root=test_dataset_path, transform=test_transforms)"
      ]
    },
    {
      "cell_type": "code",
      "execution_count": null,
      "id": "55751364",
      "metadata": {
        "colab": {
          "base_uri": "https://localhost:8080/"
        },
        "id": "55751364",
        "outputId": "70bf40d1-428d-4810-b8e5-cbcaa2906390"
      },
      "outputs": [
        {
          "output_type": "stream",
          "name": "stderr",
          "text": [
            "/usr/local/lib/python3.10/dist-packages/torch/utils/data/dataloader.py:557: UserWarning: This DataLoader will create 4 worker processes in total. Our suggested max number of worker in current system is 2, which is smaller than what this DataLoader is going to create. Please be aware that excessive worker creation might get DataLoader running slow or even freeze, lower the worker number to avoid potential slowness/freeze if necessary.\n",
            "  warnings.warn(_create_warning_msg(\n"
          ]
        }
      ],
      "source": [
        "# Create DataLoader to load the data in batches\n",
        "train_loader = DataLoader(train_data, batch_size=32, shuffle=True, num_workers=4)\n",
        "test_loader = DataLoader(test_data, batch_size=32, shuffle=False, num_workers=4)\n",
        "\n"
      ]
    },
    {
      "cell_type": "code",
      "execution_count": null,
      "id": "f4520727",
      "metadata": {
        "id": "f4520727"
      },
      "outputs": [],
      "source": [
        "# Determine the number of classes\n",
        "num_classes = len(train_data.classes)"
      ]
    },
    {
      "cell_type": "code",
      "source": [
        "print(num_classes)"
      ],
      "metadata": {
        "colab": {
          "base_uri": "https://localhost:8080/"
        },
        "id": "fHfM1bgITFuz",
        "outputId": "d8e6afc8-3d26-48eb-9941-2579ef188ff9"
      },
      "id": "fHfM1bgITFuz",
      "execution_count": null,
      "outputs": [
        {
          "output_type": "stream",
          "name": "stdout",
          "text": [
            "46\n"
          ]
        }
      ]
    },
    {
      "cell_type": "code",
      "execution_count": null,
      "id": "e9c46f30",
      "metadata": {
        "scrolled": true,
        "colab": {
          "base_uri": "https://localhost:8080/"
        },
        "id": "e9c46f30",
        "outputId": "5b77ce5c-7e8a-49f4-a1d8-a2908547b2e7"
      },
      "outputs": [
        {
          "output_type": "stream",
          "name": "stderr",
          "text": [
            "/usr/local/lib/python3.10/dist-packages/torchvision/models/_utils.py:208: UserWarning: The parameter 'pretrained' is deprecated since 0.13 and may be removed in the future, please use 'weights' instead.\n",
            "  warnings.warn(\n",
            "/usr/local/lib/python3.10/dist-packages/torchvision/models/_utils.py:223: UserWarning: Arguments other than a weight enum or `None` for 'weights' are deprecated since 0.13 and may be removed in the future. The current behavior is equivalent to passing `weights=ResNet50_Weights.IMAGENET1K_V1`. You can also use `weights=ResNet50_Weights.DEFAULT` to get the most up-to-date weights.\n",
            "  warnings.warn(msg)\n",
            "Downloading: \"https://download.pytorch.org/models/resnet50-0676ba61.pth\" to /root/.cache/torch/hub/checkpoints/resnet50-0676ba61.pth\n",
            "100%|██████████| 97.8M/97.8M [00:00<00:00, 142MB/s]\n"
          ]
        }
      ],
      "source": [
        "# Select and initialize the ResNet model, e.g., ResNet50\n",
        "resnet_model = models.resnet50(pretrained=True)\n"
      ]
    },
    {
      "cell_type": "code",
      "execution_count": null,
      "id": "4db1b683",
      "metadata": {
        "id": "4db1b683"
      },
      "outputs": [],
      "source": [
        "num_ftrs = resnet_model.fc.in_features\n",
        "resnet_model.fc = nn.Linear(num_ftrs, num_classes)  # num_classes is the number of your dataset classes\n"
      ]
    },
    {
      "cell_type": "code",
      "execution_count": null,
      "id": "37af5871",
      "metadata": {
        "id": "37af5871"
      },
      "outputs": [],
      "source": [
        "# Add dropout in a custom classifier\n",
        "class ResNetWithDropout(nn.Module):\n",
        "    def __init__(self, original_model, dropout_rate=0.5):\n",
        "        super(ResNetWithDropout, self).__init__()\n",
        "        self.features = nn.Sequential(*list(original_model.children())[:-1])  # Remove original FC\n",
        "        self.classifier = nn.Sequential(\n",
        "            nn.Dropout(dropout_rate),\n",
        "            nn.Linear(num_ftrs, num_classes)\n",
        "        )\n",
        "\n",
        "    def forward(self, x):\n",
        "        x = self.features(x)\n",
        "        x = x.view(x.size(0), -1)  # Flatten\n",
        "        x = self.classifier(x)\n",
        "        return x\n",
        "\n",
        "resnet_dropout_model = ResNetWithDropout(resnet_model, dropout_rate=0.5)"
      ]
    },
    {
      "cell_type": "code",
      "execution_count": null,
      "id": "a59f8cf2",
      "metadata": {
        "id": "a59f8cf2"
      },
      "outputs": [],
      "source": [
        "# Define the device\n",
        "device = torch.device(\"cuda:0\" if torch.cuda.is_available() else \"cpu\")\n",
        "resnet_dropout_model = resnet_dropout_model.to(device)"
      ]
    },
    {
      "cell_type": "code",
      "execution_count": null,
      "id": "9e7fb01a",
      "metadata": {
        "id": "9e7fb01a"
      },
      "outputs": [],
      "source": [
        "# Define the optimizer, loss function, and learning rate scheduler\n",
        "optimizer = optim.Adam(resnet_dropout_model.parameters(), lr=0.001)\n",
        "criterion = nn.CrossEntropyLoss()\n",
        "scheduler = lr_scheduler.StepLR(optimizer, step_size=7, gamma=0.1)"
      ]
    },
    {
      "cell_type": "code",
      "execution_count": null,
      "id": "3223b004",
      "metadata": {
        "colab": {
          "base_uri": "https://localhost:8080/"
        },
        "id": "3223b004",
        "outputId": "ad0e1674-dabb-4794-f66c-ff0971c97fb5"
      },
      "outputs": [
        {
          "output_type": "stream",
          "name": "stdout",
          "text": [
            "Epoch 1/25 - Loss: 3.6802 - Acc: 0.0588\n",
            "Validation - Loss: 3.6920 - Acc: 0.0625\n",
            "Epoch 2/25 - Loss: 3.6193 - Acc: 0.0651\n",
            "Validation - Loss: 3.6112 - Acc: 0.0625\n",
            "Epoch 3/25 - Loss: 3.5938 - Acc: 0.0733\n",
            "Validation - Loss: 3.6029 - Acc: 0.0699\n",
            "Epoch 4/25 - Loss: 3.5641 - Acc: 0.0781\n",
            "Validation - Loss: 3.6701 - Acc: 0.0666\n",
            "Epoch 5/25 - Loss: 3.5631 - Acc: 0.0786\n",
            "Validation - Loss: 3.5769 - Acc: 0.0762\n",
            "Epoch 6/25 - Loss: 3.5249 - Acc: 0.0870\n",
            "Validation - Loss: 3.4763 - Acc: 0.0941\n",
            "Epoch 7/25 - Loss: 3.4872 - Acc: 0.0964\n",
            "Validation - Loss: 3.8101 - Acc: 0.0920\n",
            "Epoch 8/25 - Loss: 3.3913 - Acc: 0.1127\n",
            "Validation - Loss: 3.4094 - Acc: 0.1110\n",
            "Epoch 9/25 - Loss: 3.3549 - Acc: 0.1165\n",
            "Validation - Loss: 3.3915 - Acc: 0.1172\n",
            "Epoch 10/25 - Loss: 3.3233 - Acc: 0.1263\n",
            "Validation - Loss: 3.3524 - Acc: 0.1270\n",
            "Epoch 11/25 - Loss: 3.2951 - Acc: 0.1285\n",
            "Validation - Loss: 3.3277 - Acc: 0.1315\n",
            "Epoch 12/25 - Loss: 3.2550 - Acc: 0.1401\n",
            "Validation - Loss: 3.2705 - Acc: 0.1484\n",
            "Epoch 13/25 - Loss: 3.1994 - Acc: 0.1556\n",
            "Validation - Loss: 3.2315 - Acc: 0.1531\n",
            "Epoch 14/25 - Loss: 3.1434 - Acc: 0.1715\n",
            "Validation - Loss: 3.1804 - Acc: 0.1711\n",
            "Epoch 15/25 - Loss: 3.0527 - Acc: 0.1877\n",
            "Validation - Loss: 3.1660 - Acc: 0.1742\n",
            "Epoch 16/25 - Loss: 3.0248 - Acc: 0.1955\n",
            "Validation - Loss: 3.1512 - Acc: 0.1840\n",
            "Epoch 17/25 - Loss: 3.0151 - Acc: 0.1984\n",
            "Validation - Loss: 3.1401 - Acc: 0.1862\n",
            "Epoch 18/25 - Loss: 2.9958 - Acc: 0.1998\n",
            "Validation - Loss: 3.1371 - Acc: 0.1865\n",
            "Epoch 19/25 - Loss: 2.9926 - Acc: 0.1980\n",
            "Validation - Loss: 3.1304 - Acc: 0.1918\n",
            "Epoch 20/25 - Loss: 2.9771 - Acc: 0.2040\n",
            "Validation - Loss: 3.1241 - Acc: 0.1944\n",
            "Epoch 21/25 - Loss: 2.9626 - Acc: 0.2038\n",
            "Validation - Loss: 3.1191 - Acc: 0.1952\n",
            "Epoch 22/25 - Loss: 2.9518 - Acc: 0.2071\n",
            "Validation - Loss: 3.1238 - Acc: 0.1944\n",
            "Epoch 23/25 - Loss: 2.9356 - Acc: 0.2155\n",
            "Validation - Loss: 3.1152 - Acc: 0.1980\n",
            "Epoch 24/25 - Loss: 2.9402 - Acc: 0.2135\n",
            "Validation - Loss: 3.1172 - Acc: 0.1993\n",
            "Epoch 25/25 - Loss: 2.9391 - Acc: 0.2143\n",
            "Validation - Loss: 3.1291 - Acc: 0.1903\n",
            "Training complete\n"
          ]
        }
      ],
      "source": [
        "# Define the number of epochs\n",
        "num_epochs = 25\n",
        "\n",
        "# Training loop\n",
        "for epoch in range(num_epochs):\n",
        "    resnet_dropout_model.train()  # Set the model to training mode\n",
        "    running_loss = 0.0\n",
        "    running_corrects = 0\n",
        "\n",
        "    for inputs, labels in train_loader:\n",
        "        inputs = inputs.to(device)\n",
        "        labels = labels.to(device)\n",
        "\n",
        "        # Zero the parameter gradients\n",
        "        optimizer.zero_grad()\n",
        "\n",
        "        # Forward pass\n",
        "        outputs = resnet_dropout_model(inputs)\n",
        "        loss = criterion(outputs, labels)\n",
        "\n",
        "        # Backward pass and optimize\n",
        "        loss.backward()\n",
        "        optimizer.step()\n",
        "\n",
        "        # Statistics\n",
        "        _, preds = torch.max(outputs, 1)\n",
        "        running_loss += loss.item() * inputs.size(0)\n",
        "        running_corrects += torch.sum(preds == labels.data)\n",
        "\n",
        "    scheduler.step()  # Update the learning rate\n",
        "\n",
        "    epoch_loss = running_loss / len(train_loader.dataset)\n",
        "    epoch_acc = running_corrects.double() / len(train_loader.dataset)\n",
        "\n",
        "    print(f'Epoch {epoch+1}/{num_epochs} - Loss: {epoch_loss:.4f} - Acc: {epoch_acc:.4f}')\n",
        "\n",
        "    # Validation loop (optional, but recommended)\n",
        "    resnet_dropout_model.eval()  # Set the model to evaluation mode\n",
        "    val_loss = 0.0\n",
        "    val_corrects = 0\n",
        "\n",
        "    for inputs, labels in test_loader:\n",
        "        inputs = inputs.to(device)\n",
        "        labels = labels.to(device)\n",
        "\n",
        "        with torch.no_grad():\n",
        "            outputs = resnet_dropout_model(inputs)\n",
        "            loss = criterion(outputs, labels)\n",
        "\n",
        "            _, preds = torch.max(outputs, 1)\n",
        "            val_loss += loss.item() * inputs.size(0)\n",
        "            val_corrects += torch.sum(preds == labels.data)\n",
        "\n",
        "    val_epoch_loss = val_loss / len(test_loader.dataset)\n",
        "    val_epoch_acc = val_corrects.double() / len(test_loader.dataset)\n",
        "\n",
        "    print(f'Validation - Loss: {val_epoch_loss:.4f} - Acc: {val_epoch_acc:.4f}')\n",
        "\n",
        "print('Training complete')"
      ]
    },
    {
      "cell_type": "code",
      "source": [
        "import numpy as np\n",
        "from sklearn.metrics import accuracy_score"
      ],
      "metadata": {
        "id": "k7HpryPEHAJP"
      },
      "id": "k7HpryPEHAJP",
      "execution_count": null,
      "outputs": []
    },
    {
      "cell_type": "code",
      "execution_count": null,
      "id": "3527b530",
      "metadata": {
        "id": "3527b530"
      },
      "outputs": [],
      "source": [
        "import numpy as np\n",
        "from torchvision.transforms import functional as TF\n",
        "\n",
        "def test_time_augmentation(model, data_loader, device, num_augmentations=10):\n",
        "    model.eval()  # Set model to evaluation mode\n",
        "    all_predictions = []\n",
        "    all_labels = []\n",
        "\n",
        "    with torch.no_grad():\n",
        "        for images, labels in data_loader:\n",
        "            images = images.to(device)\n",
        "            labels = labels.to(device)\n",
        "            batch_predictions = []\n",
        "\n",
        "            for _ in range(num_augmentations):\n",
        "                # Apply augmentations\n",
        "                augmented_images = []\n",
        "                for image in images:\n",
        "                    # Random horizontal flip with a 50% chance\n",
        "                    if torch.rand(1).item() > 0.5:\n",
        "                        image = TF.hflip(image)\n",
        "                    # Random rotation between -10 and 10 degrees\n",
        "                    angle = np.random.uniform(-10, 10)\n",
        "                    image = TF.rotate(image, angle)\n",
        "                    augmented_images.append(image)\n",
        "\n",
        "                augmented_images = torch.stack(augmented_images)\n",
        "                # Make predictions\n",
        "                outputs = model(augmented_images)\n",
        "                _, preds = torch.max(outputs, 1)\n",
        "                batch_predictions.append(preds)\n",
        "\n",
        "            # Combine predictions from all augmentations\n",
        "            batch_predictions = torch.stack(batch_predictions)\n",
        "            # Majority vote or averaging could be done here\n",
        "            # For simplicity, we just take the predictions from the first augmentation\n",
        "            final_preds = batch_predictions[0]\n",
        "            all_predictions.extend(final_preds.cpu().numpy())\n",
        "            all_labels.extend(labels.cpu().numpy())\n",
        "\n",
        "    # Calculate overall accuracy\n",
        "    accuracy = accuracy_score(all_labels, all_predictions)\n",
        "    return accuracy\n",
        "\n",
        "# Run TTA\n",
        "tta_accuracy = test_time_augmentation(resnet_dropout_model, test_loader, device)\n",
        "print(f\"Test Time Augmentation Accuracy: {tta_accuracy:.4f}\")\n"
      ]
    }
  ],
  "metadata": {
    "kernelspec": {
      "display_name": "Python 3",
      "name": "python3"
    },
    "language_info": {
      "codemirror_mode": {
        "name": "ipython",
        "version": 3
      },
      "file_extension": ".py",
      "mimetype": "text/x-python",
      "name": "python",
      "nbconvert_exporter": "python",
      "pygments_lexer": "ipython3",
      "version": "3.11.4"
    },
    "colab": {
      "provenance": [],
      "gpuType": "T4"
    },
    "accelerator": "GPU"
  },
  "nbformat": 4,
  "nbformat_minor": 5
}